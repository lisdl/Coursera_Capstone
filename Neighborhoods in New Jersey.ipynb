{
    "cells": [
        {
            "metadata": {
                "collapsed": true
            },
            "cell_type": "markdown",
            "source": "# Clustering  Neighborhoods in New Jersey according to school rankings"
        },
        {
            "metadata": {},
            "cell_type": "markdown",
            "source": "<h5>Problem</h5>"
        },
        {
            "metadata": {},
            "cell_type": "markdown",
            "source": "Find areas with good schools  in new jersey for buying a house"
        },
        {
            "metadata": {},
            "cell_type": "markdown",
            "source": "<h5>A description of the problem and a discussion of the background</h5>"
        },
        {
            "metadata": {},
            "cell_type": "markdown",
            "source": "New Jersey is a state located in the Northeastern United States. According to the 2010 United States Census, New Jersey is the 11th most populous state with 8,791,936 inhabitants but the 5th smallest by land area spanning 7,354.22 square miles (19,047.3 km2).[1] New Jersey is divided into 21 counties and contains 565[2] municipalities consisting of five types: 254 boroughs, 52 cities, 15 towns, 241 townships, and 3 villages.\n\nNew Jersey Postal code https://www.zipcodestogo.com/New%20Jersey/\nhttps://en.wikipedia.org/wiki/List_of_municipalities_in_New_Jersey\n\nThe 2020 Best School District ranking is based on rigorous analysis of key statistics and millions of reviews from students and parents using data from the U.S. Department of Education. Ranking factors include state test scores, college readiness, graduation rates, SAT/ACT scores, teacher quality, public school district ratings, and more\nhttps://www.niche.com/k12/search/best-school-districts/s/new-jersey/\n\nThe information gained will help to choose the location for buying a home based on school data.\n"
        },
        {
            "metadata": {},
            "cell_type": "markdown",
            "source": "<h5>A description of the data and how it will be used to solve the problem</h5>"
        },
        {
            "metadata": {},
            "cell_type": "markdown",
            "source": "The needed information will come from the following sources: New Jersey Municipalities for collecting Zip Code, City, and County. Meanwhile, Niche Schools will be used to collect school names, locations,  and rankings. Location through municipality name will be the connection between both resources for creating the data set.\n\nIn this project, I will use the Foursquare API to explore neighborhoods in New Jersey. I will use the explore function to get the schools of each neighborhood, and then use this feature to group the neighborhoods into clusters. I  will use the k-means clustering algorithm to complete this task. Finally, use the Folium library to visualize the neighborhoods in New Jersey and their emerging clusters.\n"
        }
    ],
    "metadata": {
        "kernelspec": {
            "name": "python3",
            "display_name": "Python 3.6",
            "language": "python"
        },
        "language_info": {
            "name": "python",
            "version": "3.6.9",
            "mimetype": "text/x-python",
            "codemirror_mode": {
                "name": "ipython",
                "version": 3
            },
            "pygments_lexer": "ipython3",
            "nbconvert_exporter": "python",
            "file_extension": ".py"
        }
    },
    "nbformat": 4,
    "nbformat_minor": 1
}