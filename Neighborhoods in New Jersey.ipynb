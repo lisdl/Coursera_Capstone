{
    "cells": [
        {
            "cell_type": "markdown",
            "metadata": {
                "collapsed": true
            },
            "source": "# Clustering  Neighborhoods in New Jersey according to school rankings"
        },
        {
            "cell_type": "markdown",
            "metadata": {},
            "source": "Problem: Find areas with good schools  in new jersey for buying a house"
        },
        {
            "cell_type": "code",
            "execution_count": null,
            "metadata": {},
            "outputs": [],
            "source": ""
        },
        {
            "cell_type": "markdown",
            "metadata": {},
            "source": "<h5>A description of the problem and a discussion of the background</h5>"
        },
        {
            "cell_type": "markdown",
            "metadata": {},
            "source": "New Jersey is a state located in the Northeastern United States. According to the 2010 United States Census, New Jersey is the 11th most populous state with 8,791,936 inhabitants but the 5th smallest by land area spanning 7,354.22 square miles (19,047.3 km2).[1] New Jersey is divided into 21 counties and contains 565[2] municipalities consisting of five types: 254 boroughs, 52 cities, 15 towns, 241 townships, and 3 villages.\n\nNew Jersey Postal code https://www.zipcodestogo.com/New%20Jersey/\nhttps://en.wikipedia.org/wiki/List_of_municipalities_in_New_Jersey\n\nThe 2020 Best School District ranking is based on rigorous analysis of key statistics and millions of reviews from students and parents using data from the U.S. Department of Education. Ranking factors include state test scores, college readiness, graduation rates, SAT/ACT scores, teacher quality, public school district ratings, and more\nhttps://www.niche.com/k12/search/best-school-districts/s/new-jersey/\n\nThe information gained will help to choose the location for buying a home based on school data.\n"
        },
        {
            "cell_type": "markdown",
            "metadata": {},
            "source": "."
        },
        {
            "cell_type": "code",
            "execution_count": null,
            "metadata": {},
            "outputs": [],
            "source": ""
        }
    ],
    "metadata": {
        "kernelspec": {
            "display_name": "Python 3.6",
            "language": "python",
            "name": "python3"
        },
        "language_info": {
            "codemirror_mode": {
                "name": "ipython",
                "version": 3
            },
            "file_extension": ".py",
            "mimetype": "text/x-python",
            "name": "python",
            "nbconvert_exporter": "python",
            "pygments_lexer": "ipython3",
            "version": "3.6.9"
        }
    },
    "nbformat": 4,
    "nbformat_minor": 1
}